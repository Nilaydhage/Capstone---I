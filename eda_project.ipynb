{
  "nbformat": 4,
  "nbformat_minor": 0,
  "metadata": {
    "colab": {
      "provenance": [],
      "collapsed_sections": [
        "9mwgjLOFhM3E"
      ],
      "authorship_tag": "ABX9TyOirs5Jl6vfyXw1nZHNHxUY",
      "include_colab_link": true
    },
    "kernelspec": {
      "name": "python3",
      "display_name": "Python 3"
    },
    "language_info": {
      "name": "python"
    }
  },
  "cells": [
    {
      "cell_type": "markdown",
      "metadata": {
        "id": "view-in-github",
        "colab_type": "text"
      },
      "source": [
        "<a href=\"https://colab.research.google.com/github/Nilaydhage/Capstone---I/blob/main/eda_project.ipynb\" target=\"_parent\"><img src=\"https://colab.research.google.com/assets/colab-badge.svg\" alt=\"Open In Colab\"/></a>"
      ]
    },
    {
      "cell_type": "code",
      "source": [],
      "metadata": {
        "id": "DF-yUVfyRyaT"
      },
      "execution_count": null,
      "outputs": []
    },
    {
      "cell_type": "markdown",
      "source": [
        "# Airbnb Booking Analysis"
      ],
      "metadata": {
        "id": "w8lITCwvg_Iz"
      }
    },
    {
      "cell_type": "markdown",
      "source": [
        "##### **Project Type**    - EDA\n",
        "##### **Contribution**    - Individual\n",
        "##### **Name -** Shrikant N. Patole\n",
        "##### Nilay H. Dhage"
      ],
      "metadata": {
        "id": "9mwgjLOFhM3E"
      }
    },
    {
      "cell_type": "markdown",
      "source": [
        "### **Problem Statement:**\n",
        "Since 2008, guests and hosts have used Airbnb to expand on travelling possibilities and present a more unique, personalised way of experiencing the world. Today, Airbnb became one of a kind service that is used and recognized by the whole world. Data analysis on millions of listings provided through Airbnb is a crucial factor for the company. These millions of listings generate a lot of data - data that can be analysed and used for security, business decisions, understanding of customers' and providers' (hosts) behaviour and performance on the platform, guiding marketing initiatives, implementation of innovative additional services and much more. This dataset has around 49,000 observations in it with 16 columns and it is a mix of categorical and numeric values.So let's Explore and analyse the data to discover key understandings."
      ],
      "metadata": {
        "id": "vZB5zK6fYLYN"
      }
    },
    {
      "cell_type": "markdown",
      "source": [
        "### **Github Link**\n"
      ],
      "metadata": {
        "id": "K30bbRQjRgjv"
      }
    },
    {
      "cell_type": "markdown",
      "source": [
        "## **1. Importing the libraries**"
      ],
      "metadata": {
        "id": "mLeSNfZzbHtS"
      }
    },
    {
      "cell_type": "code",
      "source": [
        "import numpy as np\n",
        "import pandas as pd\n",
        "import matplotlib.pyplot as plt\n",
        "import seaborn as sns\n",
        "from datetime import datetime"
      ],
      "metadata": {
        "id": "5J0jQzDEnWl0"
      },
      "execution_count": null,
      "outputs": []
    },
    {
      "cell_type": "markdown",
      "source": [
        "## **2. Load Dataset**"
      ],
      "metadata": {
        "id": "OE1oQH9CbYGJ"
      }
    },
    {
      "cell_type": "code",
      "source": [
        " #load dataset\n",
        "from google.colab import drive\n",
        "drive.mount('/content/drive')"
      ],
      "metadata": {
        "id": "rEb_bLVwoEYM"
      },
      "execution_count": null,
      "outputs": []
    },
    {
      "cell_type": "code",
      "source": [
        "df=pd.read_csv(\"/content/Airbnb NYC 2019 (2).csv\")"
      ],
      "metadata": {
        "id": "gCymvbx1L2gT"
      },
      "execution_count": null,
      "outputs": []
    },
    {
      "cell_type": "code",
      "source": [
        "#lets see first 5 rows of dataset\n",
        "df.head()"
      ],
      "metadata": {
        "id": "nkz6UtoD_uXi"
      },
      "execution_count": null,
      "outputs": []
    },
    {
      "cell_type": "code",
      "source": [
        "#Dataset Rows and Column count\n",
        "df.shape"
      ],
      "metadata": {
        "id": "qGXbJ8c1H7jH"
      },
      "execution_count": null,
      "outputs": []
    },
    {
      "cell_type": "code",
      "source": [
        "#Get the non-null count and datatypes of values in each column\n",
        "df.info()"
      ],
      "metadata": {
        "id": "JzQccHjaybAJ"
      },
      "execution_count": null,
      "outputs": []
    },
    {
      "cell_type": "code",
      "source": [
        "\n",
        "df.isnull().sum()"
      ],
      "metadata": {
        "id": "3pKJ7W9sCpJ5"
      },
      "execution_count": null,
      "outputs": []
    },
    {
      "cell_type": "code",
      "source": [
        " # Get Descriptive stats of data \n",
        "df.describe()"
      ],
      "metadata": {
        "id": "lsYWMRWiyoPf"
      },
      "execution_count": null,
      "outputs": []
    },
    {
      "cell_type": "markdown",
      "source": [
        "**Variable Description:**\n",
        "\n",
        "1. id: Unique ID\n",
        "2. name: name of the listing\n",
        "3. host_id: Unique host ID\n",
        "4. host_name: name of the host\n",
        "5. neighbourhood_group: location\n",
        "6. neighbourhood: area\n",
        "7. latitude: latitude range\n",
        "8. longitude: longitude range\n",
        "9. room_type: type of listing\n",
        "10. price: price of listing\n",
        "11. minimum_nights: minimum nights to be paid for\n",
        "12. number_of_reviews: number of reviews\n",
        "13. last_review: content of the last review\n",
        "14. reviews_per_month: number of reviews per month\n",
        "15. calculated_host_listings_count: total count\n",
        "16. availability_365: number of days when listing is available for booking"
      ],
      "metadata": {
        "id": "ZFI2n3eBHfV3"
      }
    },
    {
      "cell_type": "markdown",
      "source": [
        "Checking unique values of categorical columns"
      ],
      "metadata": {
        "id": "r9I42S78Jl_i"
      }
    },
    {
      "cell_type": "code",
      "source": [
        "df['neighbourhood_group'].unique()"
      ],
      "metadata": {
        "id": "i7lzYBZTIaMX"
      },
      "execution_count": null,
      "outputs": []
    },
    {
      "cell_type": "code",
      "source": [
        "df['room_type'].unique()"
      ],
      "metadata": {
        "id": "fHERyk0KIhMp"
      },
      "execution_count": null,
      "outputs": []
    },
    {
      "cell_type": "code",
      "source": [
        "len(df['neighbourhood'].unique())"
      ],
      "metadata": {
        "id": "uQS94UBgIhvG"
      },
      "execution_count": null,
      "outputs": []
    },
    {
      "cell_type": "code",
      "source": [
        "len(df['host_id'].unique())"
      ],
      "metadata": {
        "id": "b1bNszxfJxmW"
      },
      "execution_count": null,
      "outputs": []
    },
    {
      "cell_type": "markdown",
      "source": [
        "## **Data Wrangling**"
      ],
      "metadata": {
        "id": "Vkrg4fMAKGJ5"
      }
    },
    {
      "cell_type": "markdown",
      "source": [
        "#### **3.Replacing Null values**\n",
        "We can see that min value in price column is 0.So to replace the zero values using Interpolate method,we first need to sort the data with neighbourhood group,nieghbourhood,room type and price column respectively.We can assume that these three column highly determine the price."
      ],
      "metadata": {
        "id": "Aq-aM3aJeMZz"
      }
    },
    {
      "cell_type": "code",
      "source": [
        "# Make a copy of original dataset\n",
        "df1=df.copy()"
      ],
      "metadata": {
        "id": "2MxgV7Sofnzp"
      },
      "execution_count": null,
      "outputs": []
    },
    {
      "cell_type": "code",
      "source": [
        "#firstly,remove the duplicates\n",
        "df.drop_duplicates(inplace=True)"
      ],
      "metadata": {
        "id": "MHNJEQvgF7LQ"
      },
      "execution_count": null,
      "outputs": []
    },
    {
      "cell_type": "code",
      "source": [
        "# Replace 0 in Price column with np.NaN\n",
        "# Lets see how many null values we have now\n",
        "df1['price'].replace(0,np.nan,inplace=True)\n",
        "df1.isnull().sum()"
      ],
      "metadata": {
        "id": "dWYYHOdksYMM"
      },
      "execution_count": null,
      "outputs": []
    },
    {
      "cell_type": "code",
      "source": [
        "# Checking the NaN values replaced on zero by comparing to original dataset\n",
        "df1.loc[df['price']==0]"
      ],
      "metadata": {
        "id": "9Ta5gaagxqwF"
      },
      "execution_count": null,
      "outputs": []
    },
    {
      "cell_type": "code",
      "source": [],
      "metadata": {
        "id": "TR5Q3qL4uUBg"
      },
      "execution_count": null,
      "outputs": []
    },
    {
      "cell_type": "code",
      "source": [
        "# Sorting the dataset to use interpolate method\n",
        "df1=df.sort_values(by=['neighbourhood_group','neighbourhood','room_type','price'],ascending=True)\n",
        "df1['price']=df1['price'].interpolate(method='nearest')"
      ],
      "metadata": {
        "id": "pODjUr5Zam2I"
      },
      "execution_count": null,
      "outputs": []
    },
    {
      "cell_type": "code",
      "source": [
        "# Lets see if the null values has been replaced by some values\n",
        "df1.loc[df['price']==0]"
      ],
      "metadata": {
        "id": "AIALs9N-IHhr"
      },
      "execution_count": null,
      "outputs": []
    },
    {
      "cell_type": "code",
      "source": [
        "# To crosscheck the Interpolate method,lets calculate average price of room depending on Neighbourhood group and room types\n",
        "Average_price=df1.groupby(['neighbourhood_group','room_type'])['price'].mean()\n",
        "Average_price"
      ],
      "metadata": {
        "id": "fVK5TXpRhUJx"
      },
      "execution_count": null,
      "outputs": []
    },
    {
      "cell_type": "markdown",
      "source": [
        "So if we compare the above 11 values replaced,they are pretty close but yet they can vary depending on the neighbourhood. We have replaced the null values in price column successfully."
      ],
      "metadata": {
        "id": "vFoV5tc-zf8V"
      }
    },
    {
      "cell_type": "code",
      "source": [
        "# We can replace the null values in reviews_per_month column with 0\n",
        "\n",
        "df1['reviews_per_month'] = df1['reviews_per_month'].replace(np.nan, 0)"
      ],
      "metadata": {
        "id": "NIleVwBV61Gi"
      },
      "execution_count": null,
      "outputs": []
    },
    {
      "cell_type": "markdown",
      "source": [
        "We can see in the 'last_review' column that there are some reviews from before 2017 year.The data we have is from late 2019.So we can say that those last reviewed before 2017 are no longer in business with Airbnb.So we have to remove such listings."
      ],
      "metadata": {
        "id": "t7JA2-8EjICo"
      }
    },
    {
      "cell_type": "code",
      "source": [
        "# Convert the last_review column to datetime value.\n",
        "def str2date(x):\n",
        "    try:\n",
        "        return datetime.strptime(x,'%Y-%m-%d')\n",
        "    except:\n",
        "        return pd.NaT\n",
        "\n",
        "df1['last_review']=df1['last_review'].apply(str2date)\n"
      ],
      "metadata": {
        "id": "N64vm3CHKElQ"
      },
      "execution_count": null,
      "outputs": []
    },
    {
      "cell_type": "code",
      "source": [
        "#we can see that there are reviews from before 2017.\n",
        "df1['last_review'].value_counts()"
      ],
      "metadata": {
        "id": "oofRAFtcJ3FA"
      },
      "execution_count": null,
      "outputs": []
    },
    {
      "cell_type": "code",
      "source": [
        "# We will strip the date into month and year column and then we will drop all data before july 2017. \n",
        "\n",
        "def convert_to_year(datevalue):\n",
        "  return datevalue.year\n",
        "def convert_to_month(datevalue):\n",
        "  return datevalue.month\n",
        "\n",
        "df1['last_review_year'] = df1['last_review'].apply(convert_to_year)\n",
        "df1['last_review_month']=df1['last_review'].apply(convert_to_month)\n",
        "\n",
        "index_def=df1[df1['last_review_year']<2017].index\n",
        "df1=df1.drop(index_def)\n",
        "index_def2=df1[(df1['last_review_year']==2017) & (df1['last_review_month']<7) ].index\n",
        "df1=df1.drop(index_def2)"
      ],
      "metadata": {
        "id": "zrxg4HDgKfcY"
      },
      "execution_count": null,
      "outputs": []
    },
    {
      "cell_type": "code",
      "source": [
        "# Lets drop the year and month column to get as original data.\n",
        "df1.drop(columns=['last_review_year','last_review_month'],inplace=True)"
      ],
      "metadata": {
        "id": "bAiSfmIj6H9r"
      },
      "execution_count": null,
      "outputs": []
    },
    {
      "cell_type": "code",
      "source": [
        "# Lets see the total null values present now\n",
        "df1.isnull().sum()"
      ],
      "metadata": {
        "id": "ZVeFbXrtydF_"
      },
      "execution_count": null,
      "outputs": []
    },
    {
      "cell_type": "markdown",
      "source": [
        "We can say that 'name' & 'host_name' columns are compensated more uniquely by 'id' & 'host_id',so we dont have to worry of the missing values in those columns.For now the purpose of filtering out date is done so we can continue with null values present in 'last_review' column."
      ],
      "metadata": {
        "id": "2_LcxsZokr-x"
      }
    },
    {
      "cell_type": "markdown",
      "source": [
        "## **Data Visualizations**"
      ],
      "metadata": {
        "id": "YrPhUfryluZy"
      }
    },
    {
      "cell_type": "code",
      "source": [
        "# Create some font dictionary for title and x,y axis labelling purpose.\n",
        "font1 = {'family':'serif','size':18}\n",
        "font2 = {'family':'serif','color':'darkred','size':14}"
      ],
      "metadata": {
        "id": "z_3NUF0jK5ii"
      },
      "execution_count": null,
      "outputs": []
    },
    {
      "cell_type": "markdown",
      "source": [
        "### **Q1) highest no of airbnb owned by a host**"
      ],
      "metadata": {
        "id": "wG0-rmnAmBNf"
      }
    },
    {
      "cell_type": "code",
      "source": [
        "highest_hotel_owner=df1['host_id'].value_counts().head(10)\n",
        "highest_hotel_owner"
      ],
      "metadata": {
        "id": "84V6viz8-baT"
      },
      "execution_count": null,
      "outputs": []
    },
    {
      "cell_type": "code",
      "source": [
        "plt.figure(figsize=(10,5))\n",
        "highest_hotel_owner.plot(kind='bar',color='#7eb54e',edgecolor='green')\n",
        "plt.xlabel('Host ID',fontdict=font2)\n",
        "plt.ylabel('No of Properties',fontdict=font2)\n",
        "plt.title('Highest No of Properties',fontdict=font1)\n",
        "plt.show()"
      ],
      "metadata": {
        "id": "3DjtkmMrBAOz"
      },
      "execution_count": null,
      "outputs": []
    },
    {
      "cell_type": "markdown",
      "source": [
        "### Reason for selecting bar chart:\n",
        "The bar chart is used because we can easily compare between the values\n",
        "### Insights found from the chart\n",
        "We found that the Host with unique ID '219517861','107434423' and '30283594' respectively own highest no of properties.\n",
        "### Gained useful insight\n",
        "Top 3 hosts have almost more than 100 properties hosted.So company can provide some extra facilities,rewards to them which will help in maintaining good relations.  "
      ],
      "metadata": {
        "id": "VcV6f8WgyAFo"
      }
    },
    {
      "cell_type": "markdown",
      "source": [
        "### **Q2) Number of hotel listing depending on location**"
      ],
      "metadata": {
        "id": "glKx6yZo2-FM"
      }
    },
    {
      "cell_type": "code",
      "source": [
        "Locations = df['neighbourhood_group'].value_counts()\n",
        "Locations"
      ],
      "metadata": {
        "id": "AY9dS5O3VXct"
      },
      "execution_count": null,
      "outputs": []
    },
    {
      "cell_type": "code",
      "source": [
        "plt.figure(figsize=(10,6))\n",
        "plt.title(\"Neighbourhood Group\",fontdict=font1)\n",
        "plt.pie(Locations, labels=Locations.index, autopct='%1.1f%%')\n",
        "plt.show()"
      ],
      "metadata": {
        "id": "nPM0eS7sXiir"
      },
      "execution_count": null,
      "outputs": []
    },
    {
      "cell_type": "markdown",
      "source": [
        "### Reason for selecting Pie chart\n",
        "Pie chart can efficiently display the percentage of categorical data in simple understandable manner\n",
        "### Insights found from the chart\n",
        "* We can see that almost majority of customers (85.4%) prefer Brooklyn and Manhattan as a staying location.\n",
        "* Remaining customers preferred Queens also,but less customers are staying in Bronx,Staten Island.\n",
        "\n",
        "### Gained useful insights\n",
        "* As more customers may prefer to stay in Brooklyn and Manhattan,we can increase the no of properties in these areas.\n",
        "* Staten Island and Bronx are least preferred locations,so we can assume that properties in these areas may have negative impact on revenue and potential competition can be high. \n",
        "* Company should try to attract more customer to Staten Island and Bronx."
      ],
      "metadata": {
        "id": "sOHtrbpG1g22"
      }
    },
    {
      "cell_type": "markdown",
      "source": [
        "### **Q3) Most popular neighbourhood preferred by customers** "
      ],
      "metadata": {
        "id": "jIDcCi4E0wKI"
      }
    },
    {
      "cell_type": "code",
      "source": [
        "\n",
        "popular_neighbourhood =df1.neighbourhood.value_counts().sort_values(ascending=False)[:10]\n",
        "popular_neighbourhood"
      ],
      "metadata": {
        "id": "gPfDVOL2ipp9"
      },
      "execution_count": null,
      "outputs": []
    },
    {
      "cell_type": "code",
      "source": [
        "x = list(popular_neighbourhood.index)\n",
        "y = list(popular_neighbourhood.values)\n",
        "x.reverse()\n",
        "y.reverse()\n",
        "colors = ['#0d2c54', '#143d8d', '#1f4e9f', '#2455b6', '#2c70b7', '#3183b8', '#4393c9', '#5aa9d1', '#81c2e7', '#aed6f1']\n",
        "plt.figure(figsize=(8, 6))\n",
        "plt.title(\"Most Popular Neighbourhood\",fontdict=font1)\n",
        "plt.ylabel(\"Neighbourhood Area\",fontdict=font2)\n",
        "plt.xlabel(\"Number of guest\",fontdict=font2)\n",
        "plt.barh(x,y,color=colors)"
      ],
      "metadata": {
        "id": "1KSPAN8Vf0l9"
      },
      "execution_count": null,
      "outputs": []
    },
    {
      "cell_type": "markdown",
      "source": [
        "### Reason for selecting Horizontal Bar Plot\n",
        "We can easily compare the categorical to numerical values using horizontal bar plot.\n",
        "### Insights found from Bar plot\n",
        "* Top 4 neighbourhood hosted more than 2000 guests and remaining 6 also have \n",
        "  hosted more than 1000 of guests. \n",
        "* Bedford-Stuyvesant and Williamsburg are the busiest neighbourhoods with more than 3000 visits in total.\n",
        "\n",
        "### Useful Insights\n",
        "Company should provide more facilities to customers in these neighbourhoods as it may have high impact on no of customers.\n",
        "\n",
        "\n",
        "\n",
        "\n",
        "\n"
      ],
      "metadata": {
        "id": "MSWrkMKU393W"
      }
    },
    {
      "cell_type": "markdown",
      "source": [
        "### **Q4) Host with highest reviews**"
      ],
      "metadata": {
        "id": "HJ7DUkLd2cFL"
      }
    },
    {
      "cell_type": "code",
      "source": [
        "preferred_host=df1.groupby('host_id')['number_of_reviews'].sum().sort_values(ascending=False).head(10).reset_index()\n",
        "preferred_host['host_id'] = preferred_host['host_id'].apply(str)\n",
        "preferred_host\n"
      ],
      "metadata": {
        "id": "3zBme9oLmB8P"
      },
      "execution_count": null,
      "outputs": []
    },
    {
      "cell_type": "code",
      "source": [
        "plt.figure(figsize=(6,6))\n",
        "colour=['#1f77b4', '#2ca02c', '#d62728', '#ff7f0e', '#9467bd', '#8c564b', '#e377c2', '#7f7f7f', '#bcbd22', '#17becf']\n",
        "plt.hlines(y='host_id', xmin=0, xmax='number_of_reviews', color=colour,data=preferred_host)\n",
        "plt.title('Host with Highest Reviews',fontdict=font1)\n",
        "plt.ylabel('Host ID',fontdict=font2)\n",
        "plt.xlabel('Number of reviews',fontdict=font2)\n",
        "plt.scatter('number_of_reviews','host_id',data=preferred_host,c=colour)\n"
      ],
      "metadata": {
        "id": "AuVmxdgh5ePa"
      },
      "execution_count": null,
      "outputs": []
    },
    {
      "cell_type": "markdown",
      "source": [
        "### Reason to use horizontal line plot\n",
        "For comparison between a categarical and numerical data, horizontal line plot combined with scatter points provide easy and understandable visualization.\n",
        "### Insights from the plot\n",
        "We can see that top 3 hosts have more than 2000 reviews and remaining 7 have more than 1000 reviews.\n",
        "### Useful insights\n",
        "Company can take feedback from these high reviewed hosts and can implement them for other hosts to improvr their service. "
      ],
      "metadata": {
        "id": "eaPCz8O-irN4"
      }
    },
    {
      "cell_type": "markdown",
      "source": [
        "### **Q5) Room types preferred by customers in each neighbourhood group**"
      ],
      "metadata": {
        "id": "IRbiFhEU1lvV"
      }
    },
    {
      "cell_type": "code",
      "source": [
        "plt.figure(figsize=(10,5))\n",
        "plt.title(\"Room types preferred by customer\",fontdict=font1)\n",
        "sns.countplot(df.neighbourhood_group,hue=df.room_type, palette=\"tab10\")\n"
      ],
      "metadata": {
        "id": "Q_LwGhAUDZI8"
      },
      "execution_count": null,
      "outputs": []
    },
    {
      "cell_type": "markdown",
      "source": [
        "### Reason for choosing countplot \n",
        "Countplot in bar kind provides efficient comparison between two categorical and one numerical (count) value.Bar plots are easy to understand and explain.\n",
        "### Insights found from countplot\n",
        "* In Brooklyn and Staten Island,peoples preference for booking private rooms or entire home/apartments are almost same.\n",
        "* However we can see that in Manhattan,people prefer more to book entire home/apartments.\n",
        "* In Queens and Bronx ,people book private rooms more than other room types.\n",
        "* Irrespective of location,less no of people prefer to stay in shared rooms.\n",
        "\n",
        "### Useful Insights\n",
        "* If company wants to expand their business in Manhattan,they should focus more on creating more no of homes/apartments.\n",
        "* Company can see why less no of people prefer to stay in shared rooms.If it has negative impact on revenue then they should opt out or decrease the no of shared rooms."
      ],
      "metadata": {
        "id": "Rh86dwLe61bH"
      }
    },
    {
      "cell_type": "markdown",
      "source": [
        "### **Q6) average price of neighbourhood group depending on room type**"
      ],
      "metadata": {
        "id": "mygLEA0s2PXn"
      }
    },
    {
      "cell_type": "code",
      "source": [
        "avg_price= df1.groupby(['neighbourhood_group','room_type'])['price'].mean().reset_index()\n",
        "avg_price"
      ],
      "metadata": {
        "id": "SAbT6q6RH-AZ"
      },
      "execution_count": null,
      "outputs": []
    },
    {
      "cell_type": "code",
      "source": [
        "sns.catplot(x='neighbourhood_group',y='price',hue='room_type',data=avg_price,kind='bar',height=5,aspect=1.5,palette='hls').set(title='Average Price at Neighbourhood Group')"
      ],
      "metadata": {
        "id": "h1IVn-Xpgq0H"
      },
      "execution_count": null,
      "outputs": []
    },
    {
      "cell_type": "markdown",
      "source": [
        "### Reason for using catplot\n",
        "Categorical plot in bar kind provides efficient comparison between two categorical and one numerical value.Bar plots are easy to understand and explain.\n",
        "### Insights found\n",
        "* Average price of entire home/apartments is higher in each neighbourhood group.\n",
        "* We can see that average price for booking private rooms and shared rooms are almost same.\n",
        "\n",
        "### Useful insights\n",
        "* From previous graph,we see that more people prefer to use private rooms than shared rooms.A customer will prefer to stay in private rooms for a little more of price than staying in shared rooms.\n",
        "* Company should reduce the price of shared rooms.As more customers will stay in one shared room,we can earn good revenue from shared rooms too.\n",
        "* Even though no of visitors are less in Queens,Bronx and Staten Island,the average prices are comparatively high.So company should reduce the price in these neighbourhood groups to increase the traffic."
      ],
      "metadata": {
        "id": "u2jVYc1uApQF"
      }
    },
    {
      "cell_type": "markdown",
      "source": [
        "### **Q7) Availability of rooms in neighbourhood groups depending on their type**"
      ],
      "metadata": {
        "id": "MhplAGY33k-b"
      }
    },
    {
      "cell_type": "code",
      "source": [
        "availability=df1.groupby(['neighbourhood_group','room_type']).agg(mean_avail=('availability_365', np.mean)) \n",
        "availability"
      ],
      "metadata": {
        "id": "T2IaLwp9DauN"
      },
      "execution_count": null,
      "outputs": []
    },
    {
      "cell_type": "code",
      "source": [
        "sns.set(rc = {'figure.figsize':(7,7)})\n",
        "\n",
        "sns.lineplot(x='mean_avail',y='neighbourhood_group',hue='room_type',data=availability)\n",
        "sns.scatterplot(x='mean_avail',y='neighbourhood_group',hue='room_type',data=availability,legend=False)\n",
        "plt.title('Average Rooms Available in Neighbourhood Groups',fontdict=font1)\n",
        "plt.ylabel('Neighbourhood Groups',fontdict=font2)\n",
        "plt.xlabel('Availabilty of Rooms',fontdict=font2)\n",
        "plt.legend(loc = 'upper left')\n"
      ],
      "metadata": {
        "id": "0IJjp-bPGOMH"
      },
      "execution_count": null,
      "outputs": []
    },
    {
      "cell_type": "markdown",
      "source": [
        "### Reason for using lineplot \n",
        "lineplot can be used to compare two categorical and one numerical value effectively.The variations can be compared with scatterplot to point exact variations more effectively.\n",
        "### Insights found from plot \n",
        "* Room availability in more crowded areas such as Brooklyn and Manhattan is less than that of low crowded areas.\n",
        "*Brooklyn has low availability of entire home/apartments and private rooms even though they are preferred more for stay by customers.\n",
        "*Manhattan can have more availability of private rooms to increase its traffic.\n"
      ],
      "metadata": {
        "id": "eknvl5IMFNBa"
      }
    },
    {
      "cell_type": "code",
      "source": [
        "sns.set(rc = {'figure.figsize':(7,7)})\n",
        "sns.boxplot(data=df, x='neighbourhood_group',y='availability_365',palette='plasma')\n",
        "plt.title('Average Rooms Available in Neighbourhood Groups',fontdict=font1)\n",
        "plt.ylabel('Availabilty of Rooms',fontdict=font2)\n",
        "plt.xlabel('Neighbourhood Groups',fontdict=font2)"
      ],
      "metadata": {
        "id": "Ej4atx3tJZIo"
      },
      "execution_count": null,
      "outputs": []
    },
    {
      "cell_type": "markdown",
      "source": [
        "### Reason for using Boxplot\n",
        "We use box plot to show the distribution of quantitative data in a way that facilitates comparisons between variables or across levels of a categorical variable. The box shows the quartiles of the dataset while the whiskers extend to show the rest of the distribution, except for points that are determined to be “outliers”.\n",
        "### Insights from the plot\n",
        "* From the quartile range of box plot,in Brooklyn and Manhattan,we found that some rooms are available for high no of days while majority of rooms are available less no of days which gives us irregular distribution.\n",
        "* The distribution of rooms available is pretty much symmetric in Staten Island and Bronx.Both neighbourhood groups also have more available rooms than others.\n",
        "* Although Queens have more available rooms than Manhattan and Brooklyn,the distribution is less symmetric than Staten Island and Bronx.\n",
        "\n",
        "### Useful Insights\n",
        "* Even though properties in Bronx,Queens and Staten Island are more available,people still prefer to visit Manhattan and Brooklyn.It may be because of less no of properties and their comparatively higher prices in Staten Island and Bronx.\n",
        "* Properties in Manhattan and Brooklyn are more crowded and preferred.So company should try to increase availability of rooms in these areas.\n",
        "* As availability of rooms is positive point for Staten Island,Bronx and Queens.Steps can be taken to increase the no of visits in these areas. "
      ],
      "metadata": {
        "id": "1GgCFZm3JIdy"
      }
    },
    {
      "cell_type": "markdown",
      "source": [
        "### **Q8) Trend of number of reviews with respect to price of the listings**"
      ],
      "metadata": {
        "id": "k_Adj6K636nj"
      }
    },
    {
      "cell_type": "code",
      "source": [
        "price_review_relate = df.groupby(['price'])['number_of_reviews'].max().reset_index()\n",
        "fig = plt.figure(figsize = (10, 7))\n",
        "plt.scatter('price','number_of_reviews',data=price_review_relate,s=8)\n",
        "plt.xlabel(\"Price\",fontdict=font2)\n",
        "plt.ylabel(\"Number of Review\",fontdict=font2)\n",
        "plt.title(\"Price vs Number of Reviews\",fontdict=font1)\n",
        "plt.show()"
      ],
      "metadata": {
        "id": "kYtFseJYT6Fc"
      },
      "execution_count": null,
      "outputs": []
    },
    {
      "cell_type": "markdown",
      "source": [
        "### Reason to choose scatterplot\n",
        "Scatterplot can be used for effective comparison of two high no of numerical data.The density distibution can help in finding trend relation.\n",
        "### Insights found from data  \n",
        "We can see that as price increases the no of reviews decreases.\n",
        "### Useful Insights\n",
        "Low priced rooms are more likely to be visited and price factor effects on the no of reviews i.e popularity of property.  "
      ],
      "metadata": {
        "id": "9ViG9UZoNcHh"
      }
    },
    {
      "cell_type": "markdown",
      "source": [
        "### **Q9) Minimum nights spent depending on the neighbourhood and room type**"
      ],
      "metadata": {
        "id": "5lD112PA4Dir"
      }
    },
    {
      "cell_type": "code",
      "source": [
        "min_nights=df1.groupby(['neighbourhood_group','room_type','minimum_nights'])['price'].mean().reset_index()\n",
        "min_nights=min_nights.loc[min_nights['minimum_nights'] < 365]\n",
        "min_nights"
      ],
      "metadata": {
        "id": "pW3GKJomX1NZ"
      },
      "execution_count": null,
      "outputs": []
    },
    {
      "cell_type": "code",
      "source": [
        "sns.scatterplot(x='minimum_nights',y='price',data=min_nights,hue='room_type');\n",
        "plt.title('Price vs Minimum Nights Spent ',fontdict=font1)\n",
        "plt.ylabel('Price',fontdict=font2)\n",
        "plt.xlabel('Minimum Nights',fontdict=font2)"
      ],
      "metadata": {
        "id": "6fwuT8M6esMd"
      },
      "execution_count": null,
      "outputs": []
    },
    {
      "cell_type": "markdown",
      "source": [
        "### Reason to choose scatterplot\n",
        "Scatterplot can be used to effectively show the relation between two numerical and one categorical variable.\n",
        "### Insight found from scatterplot\n",
        "* Average prices of properties are not much varying with the changes in minimum numbers of night spent in it.\n",
        "* People are spending more nights in private rooms and entire home/apartments\n",
        "\n",
        "### Useful Insights\n",
        "Company has provided the service to customer that on an average they can be charged less or equally for any amount of nights spent."
      ],
      "metadata": {
        "id": "OpegDEYwcJAe"
      }
    },
    {
      "cell_type": "markdown",
      "source": [
        "###  **Q10)Latitude and longitude relation with neighbourhood group** "
      ],
      "metadata": {
        "id": "8Vj_5RcDFIvw"
      }
    },
    {
      "cell_type": "code",
      "source": [
        "sns.scatterplot(df1.longitude, df1.latitude,s=10,hue=df1.neighbourhood_group)\n",
        "\n",
        "plt.xlabel('Longitude',fontdict=font2)\n",
        "plt.ylabel('Latitude',fontdict=font2)\n",
        "plt.title('Locations',fontdict=font1)"
      ],
      "metadata": {
        "id": "fghfk5dkCnv5"
      },
      "execution_count": null,
      "outputs": []
    },
    {
      "cell_type": "markdown",
      "source": [
        "### Reason to use scatterplot\n",
        "Scatterplot are useful in multivariate analysis and highly used to plot latitudes and longitudes distribution\n",
        "### Insights from the scatterplot\n",
        "We can see that properties are more concentrated on perticular places like in middle of the plot and they seem to decrease as we towrds left or right from the middle.\n",
        "### Useful insights\n",
        "It is possible that Manhattan and Brooklyn area of scatterplot where the properties are densely located are somewhere near seashore or tourist attraction places."
      ],
      "metadata": {
        "id": "w4IotcR6eKCg"
      }
    },
    {
      "cell_type": "markdown",
      "source": [
        "### **Q11) Correlation heatmap**"
      ],
      "metadata": {
        "id": "v4gKRUvL4Rdt"
      }
    },
    {
      "cell_type": "code",
      "source": [
        "plt.figure(figsize=(10,8))\n",
        "sns.heatmap(df1.corr(),cmap='Blues', annot=True)\n",
        "plt.title(\"Correlation Heatmap\",fontdict=font1)"
      ],
      "metadata": {
        "id": "Z5ok0Dsdf_4e"
      },
      "execution_count": null,
      "outputs": []
    },
    {
      "cell_type": "markdown",
      "source": [
        "### Reason to use Heatmap\n",
        "We use the heat maps to visualize website user behavior. By looking at an aggregate of all user interactions on a web page, it becomes easier to spot issues and opportunities for improvement.\n",
        "### Insights from the heatmap\n",
        "Number of reviews and reviews per month have strong positive correlation and it is very obvious Availability_365 and minimum nights have a small positive correlation(0.2) \n",
        "### useful Insights\n",
        "from the heatmap we can say that numerical values are independent in terms of correlation.All the numerical values are highly dependent on categorical values."
      ],
      "metadata": {
        "id": "c-IjrXssgCb1"
      }
    },
    {
      "cell_type": "markdown",
      "source": [
        "##  **Solution to Business Objective**"
      ],
      "metadata": {
        "id": "zkPOzvQohj3-"
      }
    },
    {
      "cell_type": "markdown",
      "source": [
        "### from above data visualizations we can suggest\n",
        "* Top 3 hosts have almost more than 100 properties hosted.So company can provide some extra facilities,rewards to them which will help in maintaining good relations.\n",
        "* As more customers may prefer to stay in Brooklyn and Manhattan,company can increase the no of properties in these areas.\n",
        "* Company should try to attract more customer to Staten Island and Bronx.\n",
        "* Company should provide more facilities to customers in top 10 busiest neighbourhoods as it may have high impact on no of customers.\n",
        "* Company can take feedback from the highly reviewed hosts and can implement them for other hosts to improve their service.\n",
        "* Even though properties in Bronx,Queens and Staten Island are more available,people still prefer to visit Manhattan and Brooklyn.It may be because of less no of properties and their comparatively higher prices in Staten Island and Bronx.\n",
        "* Company should try to reduce the prices of shared rooms across all neighbourhoods.They seem to be overvalued in comparison to private rooms.\n",
        "* As availability of rooms is positive point for Staten Island,Bronx and Queens.Steps can be taken to increase the no of visits in these areas.\n",
        "* Properties in Manhattan and Brooklyn are more crowded and preferred.So company should try to increase availability of rooms in these areas.\n",
        "* Low priced rooms are more likely to be visited and price factor effects on the no of reviews i.e popularity of property.\n",
        "* price,no of reviews,availability,minimum nights spent are independent in terms of correlation with each other.All these factors are highly dependent on values such as neighbourhood,neighbourhood groups,room type."
      ],
      "metadata": {
        "id": "WfmpKNLHhy3r"
      }
    },
    {
      "cell_type": "markdown",
      "source": [
        "### ***Hurrah! We have successfully completed our EDA Capstone Project !!!***"
      ],
      "metadata": {
        "id": "eU-KKvpCYd7-"
      }
    }
  ]
}